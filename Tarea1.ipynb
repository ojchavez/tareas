{
 "cells": [
  {
   "cell_type": "markdown",
   "metadata": {},
   "source": [
    "\n",
    "# Hoja de Trabajo # 1 - Jupyter Notebooks, Markdown y Git\n",
    "\n",
    "## Oscar Chávez Valdez\n",
    "\n",
    "### Ciencia de Datos en Python\n",
    "\n",
    "**Instrucciones:**\n",
    "Resumen de la Lección MIT [Version Control (Git)](https://missing.csail.mit.edu/2020/version-control/)\n",
    "\n",
    "El entregable será un Jupyter Notebook conteniendo su ensayo acerca de Git, es decir cada uno entregará un resumen de lo que ha aprendido, conclusiones, comentarios y ejemplos propios (usados al momento de postear esta tarea en GitHub).\n",
    "Le recomendamos que para ejemplificar cualquier comando de Git pueden usar \"magic cells\", un tipo especial de celdas de jupyter que nos permite escribir comandos que no son de Python si no de nuestro sistema.\n",
    "\n",
    "Para su entrega deberá subir el Jupyter Notebook a su cuenta de Github, colocar en el ges el enlace, tome en cuenta que al momento de subirlo deberá ser una entrega tipo enlace y no documento.\n",
    "\n",
    "- Encabezados de diferentes tamaños.\n",
    "- Texto enriquecido (negrita, cursiva, subrayado, links).\n",
    "- Listas numeradas y no numeradas.\n",
    "- Tablas.\n",
    "- Imágenes.\n",
    "- Cualquier otro elemento que considere necesario.\n"
   ]
  },
  {
   "cell_type": "markdown",
   "metadata": {},
   "source": [
    "# RESUMEN DE GIT"
   ]
  },
  {
   "cell_type": "markdown",
   "metadata": {},
   "source": [
    "---\n",
    "\n",
    "Version control systems (VCSs) como GIT son herramientas que sirven para rastrear y llevar control de cambios en el código fuente, archivos y carpetas de un proyecto. Por esta razón, son útiles para colaborar.\n",
    "\n",
    "Funcionan manteniendo _snapshots_ o \"fotos\" del estado del ambiente de trabajo en diferentes momentos del desarrollo. Además, guardan metadata de cada _snapshot_ como quién realizó los cambios, comentarios, entre otros. \n",
    "\n",
    "---\n",
    "\n",
    "### Modelo de datos\n",
    "\n",
    "GIT modela la historia de una colección de archivos y carpetas _snapshot_ a trávez de _trees_ (carpetas) y _blobs_ (archivos) y su metadata:\n",
    "\n",
    "|tree|blob|contenido|\n",
    "|:-----|:----:|----:|\n",
    "|root| | |\n",
    "|\\||||\n",
    "|foo-|-foo.txt |\"hello world\" |\n",
    "\n",
    "La historia _snapshots_ se relacionan en un grafo. Hay _snapshots_ padre que precedene a _snapshots_ hijos que se van agregando con nuevos cambios o _commits_. \n",
    "\n",
    "![GIT Graph](https://www.researchgate.net/profile/Liqian_Chen/publication/326104038/figure/fig1/AS:708614083858432@1545958171047/A-simple-Git-graph-The-red-circles-represent-bug-fix-commits_W640.jpg)\n",
    "\n",
    "De esta manera, un repositorio en GIT son los objetos _snapshots_ y sus referencias (que guardan la historia). \n",
    "\n",
    "---\n",
    "\n",
    "## Staging \n",
    "\n",
    "Antes de realizar un _commit_ y nuevo _snapshot_ en git, podemos elegir que elementos o modificaciones de nuestro trabajo hecho de manera local queremos incluir. A esta área de trabajo se le llama _staging_.\n",
    "\n",
    "---"
   ]
  },
  {
   "cell_type": "markdown",
   "metadata": {},
   "source": [
    "# COMANDOS DE GIT\n",
    "## Caso de uso\n",
    "(comentarios en el CMD se escriben con ::)"
   ]
  },
  {
   "cell_type": "code",
   "execution_count": 42,
   "metadata": {},
   "outputs": [
    {
     "name": "stdout",
     "output_type": "stream",
     "text": [
      "Microsoft Windows [Version 10.0.19041.804]\r\n",
      "(c) 2020 Microsoft Corporation. All rights reserved.\r\n",
      "\r\n",
      "(base) C:\\Users\\ojcha\\Documents\\GALILEO\\PYTHON>:: Primero, creamos una nueva carpeta, e inicializamos GIT en esta carpeta.\n",
      "(base) C:\\Users\\ojcha\\Documents\\GALILEO\\PYTHON>mkdir git_test\n",
      "\r\n",
      "(base) C:\\Users\\ojcha\\Documents\\GALILEO\\PYTHON>cd git_test\n",
      "\r\n",
      "(base) C:\\Users\\ojcha\\Documents\\GALILEO\\PYTHON\\git_test>git init\n",
      "Reinitialized existing Git repository in C:/Users/ojcha/Documents/GALILEO/PYTHON/git_test/.git/\n",
      "\r\n",
      "(base) C:\\Users\\ojcha\\Documents\\GALILEO\\PYTHON\\git_test>ls .git\n",
      "COMMIT_EDITMSG\n",
      "HEAD\n",
      "config\n",
      "description\n",
      "hooks\n",
      "index\n",
      "info\n",
      "logs\n",
      "objects\n",
      "refs\n",
      "\r\n",
      "(base) C:\\Users\\ojcha\\Documents\\GALILEO\\PYTHON\\git_test>"
     ]
    },
    {
     "name": "stderr",
     "output_type": "stream",
     "text": [
      "A subdirectory or file git_test already exists.\r\n"
     ]
    }
   ],
   "source": [
    "%%cmd\n",
    ":: Primero, creamos una nueva carpeta, e inicializamos GIT en esta carpeta.\n",
    "mkdir git_test\n",
    "cd git_test\n",
    "git init\n",
    "ls .git"
   ]
  },
  {
   "cell_type": "code",
   "execution_count": 43,
   "metadata": {},
   "outputs": [
    {
     "name": "stdout",
     "output_type": "stream",
     "text": [
      "Microsoft Windows [Version 10.0.19041.804]\r\n",
      "(c) 2020 Microsoft Corporation. All rights reserved.\r\n",
      "\r\n",
      "(base) C:\\Users\\ojcha\\Documents\\GALILEO\\PYTHON>:: Ahora, creamos un archivo, con una linea de texto. \n",
      "(base) C:\\Users\\ojcha\\Documents\\GALILEO\\PYTHON>:: Agregamos este archivo al staging con git add, luego commit para crear snapshot.\n",
      "(base) C:\\Users\\ojcha\\Documents\\GALILEO\\PYTHON>cd git_test\n",
      "\r\n",
      "(base) C:\\Users\\ojcha\\Documents\\GALILEO\\PYTHON\\git_test>echo \"hello world\" > hello.txt\n",
      "\r\n",
      "(base) C:\\Users\\ojcha\\Documents\\GALILEO\\PYTHON\\git_test>git add hello.txt \n",
      "\r\n",
      "(base) C:\\Users\\ojcha\\Documents\\GALILEO\\PYTHON\\git_test>git commit -m \"primer commit de la tarea\"\n",
      "[master 4c7fdec] primer commit de la tarea\n",
      " 1 file changed, 1 deletion(-)\n",
      "\r\n",
      "(base) C:\\Users\\ojcha\\Documents\\GALILEO\\PYTHON\\git_test>"
     ]
    }
   ],
   "source": [
    "%%cmd\n",
    ":: Ahora, creamos un archivo, con una linea de texto. \n",
    ":: Agregamos este archivo al staging con git add, luego commit para crear snapshot.\n",
    "cd git_test\n",
    "echo \"hello world\" > hello.txt\n",
    "git add hello.txt \n",
    "git commit -m \"primer commit de la tarea\""
   ]
  },
  {
   "cell_type": "code",
   "execution_count": 33,
   "metadata": {},
   "outputs": [
    {
     "name": "stdout",
     "output_type": "stream",
     "text": [
      "Microsoft Windows [Version 10.0.19041.804]\r\n",
      "(c) 2020 Microsoft Corporation. All rights reserved.\r\n",
      "\r\n",
      "(base) C:\\Users\\ojcha\\Documents\\GALILEO\\PYTHON>cd git_test\n",
      "\r\n",
      "(base) C:\\Users\\ojcha\\Documents\\GALILEO\\PYTHON\\git_test>git log\n",
      "commit 535087d1440a9b28e63f2089fafe3355eff40f8b\n",
      "Author: Oscar Chavez <ojchavez@gmail.com>\n",
      "Date:   Sun Feb 14 22:42:05 2021 -0600\n",
      "\n",
      "    primer commit de la tarea\n",
      "\r\n",
      "(base) C:\\Users\\ojcha\\Documents\\GALILEO\\PYTHON\\git_test>cat hello.txt\n",
      "\"hello world\" \r\n",
      "\r\n",
      "(base) C:\\Users\\ojcha\\Documents\\GALILEO\\PYTHON\\git_test>"
     ]
    }
   ],
   "source": [
    "%%cmd\n",
    "::Con log, podemos ver la historia de GIT.\n",
    "cd git_test\n",
    "git log\n",
    "cat hello.txt"
   ]
  },
  {
   "cell_type": "code",
   "execution_count": 34,
   "metadata": {},
   "outputs": [
    {
     "name": "stdout",
     "output_type": "stream",
     "text": [
      "Microsoft Windows [Version 10.0.19041.804]\r\n",
      "(c) 2020 Microsoft Corporation. All rights reserved.\r\n",
      "\r\n",
      "(base) C:\\Users\\ojcha\\Documents\\GALILEO\\PYTHON>cd git_test\n",
      "\r\n",
      "(base) C:\\Users\\ojcha\\Documents\\GALILEO\\PYTHON\\git_test>echo \"otra linea\" >> hello.txt\n",
      "\r\n",
      "(base) C:\\Users\\ojcha\\Documents\\GALILEO\\PYTHON\\git_test>cat hello.txt\n",
      "\"hello world\" \r\n",
      "\"otra linea\" \r\n",
      "\r\n",
      "(base) C:\\Users\\ojcha\\Documents\\GALILEO\\PYTHON\\git_test>"
     ]
    }
   ],
   "source": [
    "%%cmd\n",
    ":: Ahora, haremos otro commit, despues de agregar otra linea al archivo. \n",
    "cd git_test\n",
    "echo \"otra linea\" >> hello.txt\n",
    "cat hello.txt"
   ]
  },
  {
   "cell_type": "code",
   "execution_count": 36,
   "metadata": {},
   "outputs": [
    {
     "name": "stdout",
     "output_type": "stream",
     "text": [
      "Microsoft Windows [Version 10.0.19041.804]\r\n",
      "(c) 2020 Microsoft Corporation. All rights reserved.\r\n",
      "\r\n",
      "(base) C:\\Users\\ojcha\\Documents\\GALILEO\\PYTHON>cd git_test\n",
      "\r\n",
      "(base) C:\\Users\\ojcha\\Documents\\GALILEO\\PYTHON\\git_test>git add hello.txt\n",
      "\r\n",
      "(base) C:\\Users\\ojcha\\Documents\\GALILEO\\PYTHON\\git_test>git commit -m \"segundo commit\"\n",
      "[master 2b54503] segundo commit\n",
      " 1 file changed, 1 insertion(+)\n",
      "\r\n",
      "(base) C:\\Users\\ojcha\\Documents\\GALILEO\\PYTHON\\git_test>git log\n",
      "commit 2b545030a4093b77e5d2cab73f4ee1c494879837\n",
      "Author: Oscar Chavez <ojchavez@gmail.com>\n",
      "Date:   Sun Feb 14 22:52:12 2021 -0600\n",
      "\n",
      "    segundo commit\n",
      "\n",
      "commit 535087d1440a9b28e63f2089fafe3355eff40f8b\n",
      "Author: Oscar Chavez <ojchavez@gmail.com>\n",
      "Date:   Sun Feb 14 22:42:05 2021 -0600\n",
      "\n",
      "    primer commit de la tarea\n",
      "\r\n",
      "(base) C:\\Users\\ojcha\\Documents\\GALILEO\\PYTHON\\git_test>"
     ]
    }
   ],
   "source": [
    "%%cmd\n",
    "cd git_test\n",
    "git add hello.txt\n",
    "git commit -m \"segundo commit\"\n",
    "git log"
   ]
  },
  {
   "cell_type": "code",
   "execution_count": 44,
   "metadata": {},
   "outputs": [
    {
     "name": "stdout",
     "output_type": "stream",
     "text": [
      "Microsoft Windows [Version 10.0.19041.804]\r\n",
      "(c) 2020 Microsoft Corporation. All rights reserved.\r\n",
      "\r\n",
      "(base) C:\\Users\\ojcha\\Documents\\GALILEO\\PYTHON>:: Con el siguiente comando (git log --all --graph --decorate), podemos ver la historia de GIT en un casi formato de grafo.\n",
      "(base) C:\\Users\\ojcha\\Documents\\GALILEO\\PYTHON>cd git_test\n",
      "\r\n",
      "(base) C:\\Users\\ojcha\\Documents\\GALILEO\\PYTHON\\git_test>git log --all --graph --decorate\n",
      "* commit 4c7fdec1026eca727ae24a98548f952b7f5a024c (HEAD -> master)\n",
      "| Author: Oscar Chavez <ojchavez@gmail.com>\n",
      "| Date:   Sun Feb 14 22:58:08 2021 -0600\n",
      "| \n",
      "|     primer commit de la tarea\n",
      "| \n",
      "* commit 2b545030a4093b77e5d2cab73f4ee1c494879837\n",
      "| Author: Oscar Chavez <ojchavez@gmail.com>\n",
      "| Date:   Sun Feb 14 22:52:12 2021 -0600\n",
      "| \n",
      "|     segundo commit\n",
      "| \n",
      "* commit 535087d1440a9b28e63f2089fafe3355eff40f8b\n",
      "  Author: Oscar Chavez <ojchavez@gmail.com>\n",
      "  Date:   Sun Feb 14 22:42:05 2021 -0600\n",
      "  \n",
      "      primer commit de la tarea\n",
      "\r\n",
      "(base) C:\\Users\\ojcha\\Documents\\GALILEO\\PYTHON\\git_test>"
     ]
    }
   ],
   "source": [
    "%%cmd\n",
    ":: Con el siguiente comando (git log --all --graph --decorate), podemos ver la historia de GIT en un casi formato de grafo.\n",
    "cd git_test\n",
    "git log --all --graph --decorate"
   ]
  },
  {
   "cell_type": "code",
   "execution_count": null,
   "metadata": {},
   "outputs": [],
   "source": []
  }
 ],
 "metadata": {
  "kernelspec": {
   "display_name": "Python 3",
   "language": "python",
   "name": "python3"
  },
  "language_info": {
   "codemirror_mode": {
    "name": "ipython",
    "version": 3
   },
   "file_extension": ".py",
   "mimetype": "text/x-python",
   "name": "python",
   "nbconvert_exporter": "python",
   "pygments_lexer": "ipython3",
   "version": "3.7.7"
  }
 },
 "nbformat": 4,
 "nbformat_minor": 5
}
